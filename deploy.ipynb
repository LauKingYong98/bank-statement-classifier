{
 "cells": [
  {
   "cell_type": "markdown",
   "id": "2682aa54-e714-4fb5-bb6b-78f1a4539764",
   "metadata": {},
   "source": [
    "### Model Deployment"
   ]
  },
  {
   "cell_type": "code",
   "execution_count": null,
   "id": "35d26aee-7cfb-4301-9457-21495efe1d99",
   "metadata": {},
   "outputs": [],
   "source": [
    "import pandas as pd\n",
    "\n",
    "df = pd.read_csv(\"data/actual-data.csv\")\n",
    "\n",
    "#read the dataset\n",
    "df"
   ]
  },
  {
   "cell_type": "code",
   "execution_count": null,
   "id": "4022c0c3-2035-403a-9fc7-a4c9ce297af0",
   "metadata": {},
   "outputs": [],
   "source": [
    "# combined all columns into 1 to be tokenized and fetch into model\n",
    "df['combined_text'] = df.apply(lambda row: f\"Bank: {row['Bank']} Currency: {row['Currency']} Date: {row['Date']} Amount: {row['Amount']} Text: {row['Text']}\", axis=1)"
   ]
  },
  {
   "cell_type": "code",
   "execution_count": null,
   "id": "0979050e-5c9b-46d8-9f1f-b0556004a74f",
   "metadata": {},
   "outputs": [],
   "source": [
    "df_test = df[['combined_text']]\n",
    "df_test"
   ]
  },
  {
   "cell_type": "code",
   "execution_count": null,
   "id": "8315f67c-0efd-4384-b7ed-376d657297b0",
   "metadata": {},
   "outputs": [],
   "source": [
    "# export the processed df as a csv file, unfilter the code to process\n",
    "df_test.to_csv('data/actual-data-pd-out.csv', index=False)"
   ]
  },
  {
   "cell_type": "code",
   "execution_count": null,
   "id": "14499abe-a022-4de2-82a4-0b8658f055a4",
   "metadata": {},
   "outputs": [],
   "source": [
    "# load the processed csv file with two column \"input\" & 'label' under dataset library\n",
    "from datasets import load_dataset\n",
    "\n",
    "dataset_test = load_dataset(\"csv\", data_files='data/actual-data-pd-out.csv')"
   ]
  },
  {
   "cell_type": "code",
   "execution_count": null,
   "id": "710ce47e-0ef8-49ce-8437-6cd39ae27b65",
   "metadata": {},
   "outputs": [],
   "source": [
    "dataset_test"
   ]
  },
  {
   "cell_type": "code",
   "execution_count": null,
   "id": "6812d7d2-4a6a-4b79-9869-f41597b96c42",
   "metadata": {},
   "outputs": [],
   "source": [
    "from transformers import AutoTokenizer, AutoModelForSequenceClassification, DataCollatorWithPadding\n",
    "\n",
    "# Load the model\n",
    "model = AutoModelForSequenceClassification.from_pretrained(\"model/bank-classifier-model\")\n",
    "\n",
    "# Load the tokenizer\n",
    "tokenizer = AutoTokenizer.from_pretrained(\"model/bank-classifier-tokenizer\")"
   ]
  },
  {
   "cell_type": "code",
   "execution_count": null,
   "id": "c039bbde-21d8-4c1b-a810-e2a7c683a90e",
   "metadata": {},
   "outputs": [],
   "source": [
    "def tokenize_function(example):\n",
    "    return tokenizer(example[\"combined_text\"], truncation=True)\n",
    "\n",
    "\n",
    "tokenized_datasets_test = dataset_test.map(tokenize_function, batched=True)\n",
    "data_collator = DataCollatorWithPadding(tokenizer=tokenizer)"
   ]
  },
  {
   "cell_type": "code",
   "execution_count": null,
   "id": "c2362cef-9359-4962-a389-d069839662d2",
   "metadata": {},
   "outputs": [],
   "source": [
    "tokenized_datasets_test"
   ]
  },
  {
   "cell_type": "code",
   "execution_count": null,
   "id": "4f34294b-3695-42d1-9116-83351d8dfd1b",
   "metadata": {},
   "outputs": [],
   "source": [
    "# the model will not recognised column \"combined_text\", lets remove it\n",
    "tokenized_datasets_test = tokenized_datasets_test.remove_columns([\"combined_text\"])\n",
    "\n",
    "tokenized_datasets_test"
   ]
  },
  {
   "cell_type": "code",
   "execution_count": null,
   "id": "a04ec5b9-6722-477e-8a04-ff5dd4643110",
   "metadata": {},
   "outputs": [],
   "source": [
    "from transformers import Trainer, TrainingArguments\n",
    "import torch\n",
    "\n",
    "trainer = Trainer(\n",
    "    model=model,\n",
    "    data_collator=data_collator,\n",
    "    tokenizer=tokenizer,\n",
    ")"
   ]
  },
  {
   "cell_type": "code",
   "execution_count": null,
   "id": "3d738bfa-d7ce-41f3-ba7e-1a30efba0858",
   "metadata": {},
   "outputs": [],
   "source": [
    "# Make predictions\n",
    "predictions = trainer.predict(tokenized_datasets_test[\"train\"])"
   ]
  },
  {
   "cell_type": "code",
   "execution_count": null,
   "id": "35657098-e7c9-4fe7-9c8a-30525b60d083",
   "metadata": {},
   "outputs": [],
   "source": [
    "print(predictions)"
   ]
  },
  {
   "cell_type": "code",
   "execution_count": null,
   "id": "b0db0be4-6efe-47d4-bde9-29f9c0dc97f7",
   "metadata": {},
   "outputs": [],
   "source": [
    "import numpy as np\n",
    "\n",
    "# Extract predicted labels\n",
    "preds = np.argmax(predictions.predictions, axis=-1)\n",
    "\n",
    "# Display predicted labels\n",
    "print(preds)"
   ]
  },
  {
   "cell_type": "code",
   "execution_count": null,
   "id": "1383e785-9939-4ba5-bc0d-7efee84e0dbd",
   "metadata": {},
   "outputs": [],
   "source": [
    "# Define label mapping dictionary\n",
    "label_mapping = {\n",
    "    'BANK CHARGES': 0,\n",
    "    'FOREX PURCHASE': 1,\n",
    "    'FUND TRANSFER': 2,\n",
    "    'INCOMING': 3,\n",
    "    'INTEREST': 4,\n",
    "    'LF TO ADVISE': 5,\n",
    "    'OUTGOING': 6,\n",
    "    'PETTY CASH': 7,\n",
    "    'SALARY': 8,\n",
    "    'SALARY ADVANCE': 9,\n",
    "    'TAX': 10\n",
    "}"
   ]
  },
  {
   "cell_type": "code",
   "execution_count": null,
   "id": "e7737d5c-1de4-4c11-9951-3485f5e3f65c",
   "metadata": {},
   "outputs": [],
   "source": [
    "# Create inverse mapping\n",
    "inverse_label_mapping = {v: k for k, v in label_mapping.items()}"
   ]
  },
  {
   "cell_type": "code",
   "execution_count": null,
   "id": "0a6db47d-b97b-4583-bb15-01a2d5a85dd8",
   "metadata": {},
   "outputs": [],
   "source": [
    "inverse_label_mapping"
   ]
  },
  {
   "cell_type": "code",
   "execution_count": null,
   "id": "9ebe1071-742b-46b7-8cbc-05a562461b55",
   "metadata": {},
   "outputs": [],
   "source": [
    "# Convert predicted numerical labels to string labels\n",
    "predicted_labels = [inverse_label_mapping[pred] for pred in preds]"
   ]
  },
  {
   "cell_type": "code",
   "execution_count": null,
   "id": "2fb829ea-8604-447d-a714-6bebafa1a408",
   "metadata": {},
   "outputs": [],
   "source": [
    "df['prediced_label'] = predicted_labels"
   ]
  },
  {
   "cell_type": "code",
   "execution_count": null,
   "id": "7e258298-abe8-4c09-ba4b-9263904ee27e",
   "metadata": {},
   "outputs": [],
   "source": [
    "df"
   ]
  },
  {
   "cell_type": "code",
   "execution_count": null,
   "id": "542adf84-7006-4ff6-ac88-9d8689617535",
   "metadata": {},
   "outputs": [],
   "source": [
    "# export the processed df as a csv file, unfilter the code to process\n",
    "df.to_csv('data/actual-data-result.csv', index=False)"
   ]
  },
  {
   "cell_type": "code",
   "execution_count": null,
   "id": "1ffe48a6-0028-408a-831f-07565b3e70a6",
   "metadata": {},
   "outputs": [],
   "source": []
  }
 ],
 "metadata": {
  "kernelspec": {
   "display_name": "Python 3 (ipykernel)",
   "language": "python",
   "name": "python3"
  },
  "language_info": {
   "codemirror_mode": {
    "name": "ipython",
    "version": 3
   },
   "file_extension": ".py",
   "mimetype": "text/x-python",
   "name": "python",
   "nbconvert_exporter": "python",
   "pygments_lexer": "ipython3",
   "version": "3.11.9"
  }
 },
 "nbformat": 4,
 "nbformat_minor": 5
}
